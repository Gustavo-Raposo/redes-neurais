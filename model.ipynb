{
 "cells": [
  {
   "cell_type": "code",
   "execution_count": 1,
   "metadata": {},
   "outputs": [],
   "source": [
    "import pandas as pd"
   ]
  },
  {
   "cell_type": "code",
   "execution_count": 3,
   "metadata": {},
   "outputs": [
    {
     "name": "stdout",
     "output_type": "stream",
     "text": [
      "       Flow\n",
      "0      5512\n",
      "1      5543\n",
      "2      5607\n",
      "3      5639\n",
      "4      5703\n",
      "...     ...\n",
      "31407  2871\n",
      "31408  3048\n",
      "31409  3163\n",
      "31410  3160\n",
      "31411  3023\n",
      "\n",
      "[31412 rows x 1 columns]\n"
     ]
    }
   ],
   "source": [
    "# Path to the txt file\n",
    "file_path = './SOBRADINHO_DIARIA_1931_2016.txt'\n",
    "\n",
    "# Reading file\n",
    "with open(file_path, 'r') as file:\n",
    "    lines = file.readlines()\n",
    "\n",
    "# Creating a DataFrame\n",
    "df = pd.DataFrame(lines, columns=['Flow'])\n",
    "\n",
    "# Strip newline characters from the end of each line\n",
    "df['Flow'] = df['Flow'].str.strip()\n",
    "\n",
    "print(df)"
   ]
  }
 ],
 "metadata": {
  "kernelspec": {
   "display_name": "base",
   "language": "python",
   "name": "python3"
  },
  "language_info": {
   "codemirror_mode": {
    "name": "ipython",
    "version": 3
   },
   "file_extension": ".py",
   "mimetype": "text/x-python",
   "name": "python",
   "nbconvert_exporter": "python",
   "pygments_lexer": "ipython3",
   "version": "3.11.7"
  }
 },
 "nbformat": 4,
 "nbformat_minor": 2
}
