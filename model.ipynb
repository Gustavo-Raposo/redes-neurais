{
 "cells": [
  {
   "cell_type": "code",
   "execution_count": 1,
   "metadata": {},
   "outputs": [],
   "source": [
    "import pandas as pd\n",
    "import numpy as np\n",
    "import warnings\n",
    "warnings.filterwarnings('ignore')"
   ]
  },
  {
   "cell_type": "code",
   "execution_count": 2,
   "metadata": {},
   "outputs": [
    {
     "name": "stdout",
     "output_type": "stream",
     "text": [
      "       Flow\n",
      "0      5512\n",
      "1      5543\n",
      "2      5607\n",
      "3      5639\n",
      "4      5703\n",
      "...     ...\n",
      "31407  2871\n",
      "31408  3048\n",
      "31409  3163\n",
      "31410  3160\n",
      "31411  3023\n",
      "\n",
      "[31412 rows x 1 columns]\n"
     ]
    }
   ],
   "source": [
    "# Path to the txt file\n",
    "file_path = './SOBRADINHO_DIARIA_1931_2016.txt'\n",
    "\n",
    "# Reading file\n",
    "with open(file_path, 'r') as file:\n",
    "    lines = file.readlines()\n",
    "\n",
    "# Creating a DataFrame\n",
    "df = pd.DataFrame(lines, columns=['Flow'])\n",
    "\n",
    "# Strip newline characters from the end of each line\n",
    "df['Flow'] = df['Flow'].str.strip()\n",
    "df['Flow']=pd.to_numeric(df['Flow'], errors='coerce').fillna(0).astype(int)\n",
    "\n",
    "print(df)"
   ]
  },
  {
   "cell_type": "code",
   "execution_count": 3,
   "metadata": {},
   "outputs": [
    {
     "name": "stdout",
     "output_type": "stream",
     "text": [
      "Flow    int64\n",
      "dtype: object\n"
     ]
    }
   ],
   "source": [
    "print(df.dtypes)"
   ]
  },
  {
   "cell_type": "code",
   "execution_count": null,
   "metadata": {},
   "outputs": [],
   "source": [
    "#função para fazer o deslocamentos das saídas e entradas\n",
    "def deslocamento(entradas,saidas,colunas,tabela):\n",
    "    #cria uma cópia da tabela\n",
    "    tabela1=tabela.copy()\n",
    "    #desloca a coluna flow i vezes para trás\n",
    "    for i in range(1,entradas+1):\n",
    "        for coluna in colunas:\n",
    "            tabela1.insert(loc=0, column=coluna+str((entradas-i)+1), value=tabela[coluna].shift(i))\n",
    "        \n",
    "    #desloca a coluna flow i vezes para frente\n",
    "    for i in range(1,saidas):\n",
    "        tabela1['Saida'+ str(i)]=tabela['Flow'].shift(-1*i)\n",
    "    return tabela1\n",
    "    "
   ]
  },
  {
   "cell_type": "code",
   "execution_count": null,
   "metadata": {},
   "outputs": [],
   "source": [
    "#armazenando os dados das tabelas de acordo com as entradas numa lista dataframes\n",
    "entradas_testes=[15,30,45]\n",
    "saidas = 12\n",
    "dataframes = []\n",
    "colunas = ['Flow']\n",
    "for entrada in entradas_testes:\n",
    "    dataframes.append(deslocamento(entrada,saidas,colunas,df).dropna().round(4))\n",
    "    dataframes[-1].to_csv('arquivo1_'+str(entrada)+'.csv', index=False, sep = ' ')"
   ]
  },
  {
   "cell_type": "code",
   "execution_count": null,
   "metadata": {},
   "outputs": [],
   "source": [
    "def calcularZeW(tabela):\n",
    "    #cria uma cópia da tabela\n",
    "    tabela1=tabela.copy()\n",
    "    z=[]\n",
    "    for i,vazao in enumerate(tabela['Flow']):\n",
    "       z.append((tabela1.diff().iloc[i,0]/vazao)*100)\n",
    "    tabela1.insert(loc=0, column='z', value=z)\n",
    "    tabela1.insert(loc=0, column='w', value=tabela1['z'].diff())\n",
    "    return tabela1\n",
    "df_z_w=calcularZeW(df)   "
   ]
  },
  {
   "cell_type": "code",
   "execution_count": null,
   "metadata": {},
   "outputs": [],
   "source": [
    "#armazenando os dados das tabelas de acordo com as entradas numa lista dataframes para o arquivo 2\n",
    "entradas_testes=[15,30,45]\n",
    "saidas = 12\n",
    "dataframes2 = []\n",
    "colunas = ['Flow','z','w']\n",
    "for entrada in entradas_testes:\n",
    "    df_res = deslocamento(entrada,saidas,colunas,df_z_w).dropna().round(4)\n",
    "    df_res.to_csv('arquivo2_'+str(entrada)+'.csv', index=False,sep=' ')"
   ]
  },
  {
   "cell_type": "code",
   "execution_count": null,
   "metadata": {},
   "outputs": [],
   "source": [
    "df_teste = pd.read_csv('arquivo2_15.csv',sep=' ')\n",
    "\n",
    "df_teste"
   ]
  },
  {
   "cell_type": "code",
   "execution_count": null,
   "metadata": {},
   "outputs": [],
   "source": [
    "def bits(valueZ,valueW):\n",
    "    if valueZ>20 and valueW>0:\n",
    "        return [1,0,0]\n",
    "    elif valueZ<-20 and valueW<0:\n",
    "        return [0,0,1]\n",
    "    else:\n",
    "        return [0,1,0]\n",
    "def calcularDFbits(tabela):\n",
    "    bits_0a2=tabela.apply(lambda x: bits(x.z,x.w),axis=1)\n",
    "    df_bits=pd.DataFrame(np.array(bits_0a2.tolist()).reshape(-1,3),columns=['bit0','bit1','bit2'])\n",
    "    df_bits=pd.concat([df_bits,tabela],axis=1)\n",
    "    return df_bits.dropna().drop(['z','w'],axis=1)"
   ]
  },
  {
   "cell_type": "code",
   "execution_count": null,
   "metadata": {},
   "outputs": [],
   "source": [
    "df_bits=calcularDFbits(df_z_w)"
   ]
  },
  {
   "cell_type": "code",
   "execution_count": null,
   "metadata": {},
   "outputs": [],
   "source": [
    "df_bits"
   ]
  },
  {
   "cell_type": "code",
   "execution_count": null,
   "metadata": {},
   "outputs": [],
   "source": [
    "#armazenando os dados das tabelas de acordo com as entradas numa lista dataframes para o arquivo 3\n",
    "entradas_testes=[15,30,45]\n",
    "saidas = 12\n",
    "dataframes2 = []\n",
    "colunas = ['Flow','bit2','bit1','bit0']\n",
    "for entrada in entradas_testes:\n",
    "    df_res = deslocamento(entrada,saidas,colunas,df_bits).dropna().round(4)\n",
    "    df_res.to_csv('arquivo3_'+str(entrada)+'.csv', index=False,sep=' ')"
   ]
  },
  {
   "cell_type": "code",
   "execution_count": null,
   "metadata": {},
   "outputs": [],
   "source": [
    "df_teste = pd.read_csv('arquivo3_15.csv',sep=' ')\n",
    "\n",
    "df_teste"
   ]
  },
  {
   "cell_type": "code",
   "execution_count": null,
   "metadata": {},
   "outputs": [],
   "source": []
  }
 ],
 "metadata": {
  "kernelspec": {
   "display_name": "Python 3 (ipykernel)",
   "language": "python",
   "name": "python3"
  },
  "language_info": {
   "codemirror_mode": {
    "name": "ipython",
    "version": 3
   },
   "file_extension": ".py",
   "mimetype": "text/x-python",
   "name": "python",
   "nbconvert_exporter": "python",
   "pygments_lexer": "ipython3",
   "version": "3.11.5"
  }
 },
 "nbformat": 4,
 "nbformat_minor": 4
}
